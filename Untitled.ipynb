{
 "cells": [
  {
   "cell_type": "code",
   "execution_count": 7,
   "id": "2e742f4e-ff8d-4fc2-9b61-3835634ef680",
   "metadata": {},
   "outputs": [
    {
     "name": "stdout",
     "output_type": "stream",
     "text": [
      "Hello, World!\n",
      "Привет, меня зовут Аброр, я учу Python!\n"
     ]
    }
   ],
   "source": [
    "print(\"Hello, World!\")\n",
    "print(\"Привет, меня зовут Аброр, я учу Python!\")"
   ]
  },
  {
   "cell_type": "code",
   "execution_count": 8,
   "id": "94b65365-22f9-4ed7-b895-d3d428e2d460",
   "metadata": {},
   "outputs": [
    {
     "name": "stdout",
     "output_type": "stream",
     "text": [
      "=== Визитка ===\n",
      "Имя: Аброр\n",
      "Возраст: 30\n",
      "Город: Алматы\n",
      "Профессия: Будущий Data Scientist\n"
     ]
    }
   ],
   "source": [
    "print(\"=== Визитка ===\")\n",
    "print(\"Имя: Аброр\")\n",
    "print(\"Возраст: 30\")\n",
    "print(\"Город: Алматы\")\n",
    "print(\"Профессия: Будущий Data Scientist\")"
   ]
  },
  {
   "cell_type": "code",
   "execution_count": 9,
   "id": "a4fcc1a1-ccda-4ea2-bc5e-e31d114189e1",
   "metadata": {
    "scrolled": true
   },
   "outputs": [
    {
     "name": "stdout",
     "output_type": "stream",
     "text": [
      "Таблица умножения на 5\n",
      "1 * 5 = 5\n",
      "2 * 5 = 10\n",
      "3 * 5 = 15\n",
      "4 * 5 = 20\n",
      "5 * 5 = 25\n",
      "6 * 5 = 30\n",
      "7 * 5 = 35\n",
      "8 * 5 = 40\n",
      "9 * 5 = 45\n",
      "10 * 5 = 50\n"
     ]
    }
   ],
   "source": [
    "print(\"Таблица умножения на 5\")\n",
    "for i in range(1, 11):\n",
    "    print(i, \"* 5 =\", i * 5)\n"
   ]
  },
  {
   "cell_type": "code",
   "execution_count": null,
   "id": "ad5b67d7-0bfa-4908-9f85-74db2bc000f5",
   "metadata": {},
   "outputs": [],
   "source": []
  }
 ],
 "metadata": {
  "kernelspec": {
   "display_name": "Python [conda env:anaconda3]",
   "language": "python",
   "name": "conda-env-anaconda3-py"
  },
  "language_info": {
   "codemirror_mode": {
    "name": "ipython",
    "version": 3
   },
   "file_extension": ".py",
   "mimetype": "text/x-python",
   "name": "python",
   "nbconvert_exporter": "python",
   "pygments_lexer": "ipython3",
   "version": "3.13.5"
  }
 },
 "nbformat": 4,
 "nbformat_minor": 5
}
