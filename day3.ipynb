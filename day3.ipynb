{
 "cells": [
  {
   "cell_type": "code",
   "execution_count": 1,
   "id": "ee4fee4c-7cb9-4909-b894-84d4541fc7b4",
   "metadata": {},
   "outputs": [
    {
     "name": "stdout",
     "output_type": "stream",
     "text": [
      "['яблоко', 'банан', 'вишня']\n",
      "['яблоко', 'банан', 'вишня', 'апельсин']\n"
     ]
    }
   ],
   "source": [
    "fruits = [\"яблоко\", \"банан\", \"вишня\"]\n",
    "copy2 = fruits[:]\n",
    "copy2.append(\"апельсин\")\n",
    "\n",
    "print(fruits)\n",
    "print(copy2)\n"
   ]
  },
  {
   "cell_type": "code",
   "execution_count": null,
   "id": "05161f1a-98a9-474c-be25-7c13726b022c",
   "metadata": {},
   "outputs": [],
   "source": [
    "import copy\n",
    "\n",
    "nested = [[1, 2], [3, 4]]\n",
    "deep_copy = copy.deepcopy(nested)\n",
    "deep_copy[0][0] = 99\n",
    "\n",
    "print(nested)     # [[1, 2], [3, 4]]\n",
    "print(deep_copy)  # [[99, 2], [3, 4]]\n"
   ]
  },
  {
   "cell_type": "code",
   "execution_count": 3,
   "id": "b6dc57af-f3ca-4166-bfd1-2c55c155328d",
   "metadata": {},
   "outputs": [
    {
     "name": "stdout",
     "output_type": "stream",
     "text": [
      "i like apple\n",
      "i like kiwi\n",
      "i like banana\n"
     ]
    }
   ],
   "source": [
    "fruits = [\"apple\", \"kiwi\", \"banana\"]\n",
    "for fruit in fruits:\n",
    "    print(\"i like\", fruit)\n"
   ]
  },
  {
   "cell_type": "code",
   "execution_count": 11,
   "id": "1ae2463e-f3de-4cfc-95e0-7aaf07bacb07",
   "metadata": {},
   "outputs": [
    {
     "name": "stdout",
     "output_type": "stream",
     "text": [
      "['mouse', 'horse', 'cat', 'dog', 'lion']\n"
     ]
    }
   ],
   "source": [
    "animals = [\"mouse\", \"horse\", \"cat\", \"dog\"]\n",
    "animals.append(\"lion\")\n",
    "print(animals)"
   ]
  },
  {
   "cell_type": "code",
   "execution_count": 4,
   "id": "541bf365-e69d-4eb4-b894-0855c5566569",
   "metadata": {},
   "outputs": [
    {
     "name": "stdout",
     "output_type": "stream",
     "text": [
      "apple\n",
      "kiwi\n"
     ]
    }
   ],
   "source": [
    "fruits = [\"apple\", \"kiwi\", \"banana\"]\n",
    "print(fruits[0])\n",
    "print(fruits[1])"
   ]
  },
  {
   "cell_type": "code",
   "execution_count": 2,
   "id": "923ad963-12ad-466f-800a-976b258d54c2",
   "metadata": {},
   "outputs": [
    {
     "name": "stdout",
     "output_type": "stream",
     "text": [
      "['Moscow', 'Seul', 'Almaty', 'Astana']\n"
     ]
    }
   ],
   "source": [
    "cities = [\"Moscow\", \"London\", \"Almaty\"]\n",
    "cities[1] = \"Seul\"\n",
    "cities.append(\"Astana\")\n",
    "print(cities)\n"
   ]
  },
  {
   "cell_type": "code",
   "execution_count": 5,
   "id": "7c51fdf8-054a-4716-a041-b01d7d97604a",
   "metadata": {},
   "outputs": [
    {
     "name": "stdout",
     "output_type": "stream",
     "text": [
      "the sum of all numbers: 4\n",
      "the sum of all numbers: 11\n",
      "the sum of all numbers: 19\n",
      "the sum of all numbers: 34\n"
     ]
    }
   ],
   "source": [
    "numbers = [3, 7, 8, 15]\n",
    "total = 1\n",
    "for number in numbers:\n",
    "    total = total + number\n",
    "    print(\"the sum of all numbers:\", total)\n"
   ]
  },
  {
   "cell_type": "code",
   "execution_count": null,
   "id": "fdad6d4d-9944-415e-b484-628bd13b06c9",
   "metadata": {},
   "outputs": [],
   "source": []
  }
 ],
 "metadata": {
  "kernelspec": {
   "display_name": "Python [conda env:anaconda3]",
   "language": "python",
   "name": "conda-env-anaconda3-py"
  },
  "language_info": {
   "codemirror_mode": {
    "name": "ipython",
    "version": 3
   },
   "file_extension": ".py",
   "mimetype": "text/x-python",
   "name": "python",
   "nbconvert_exporter": "python",
   "pygments_lexer": "ipython3",
   "version": "3.13.5"
  }
 },
 "nbformat": 4,
 "nbformat_minor": 5
}
