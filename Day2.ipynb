{
 "cells": [
  {
   "cell_type": "code",
   "execution_count": 2,
   "id": "53354a00-75cc-4966-95ef-7238ab896730",
   "metadata": {},
   "outputs": [
    {
     "name": "stdin",
     "output_type": "stream",
     "text": [
      "Введите число: 7\n"
     ]
    },
    {
     "name": "stdout",
     "output_type": "stream",
     "text": [
      "Число нечетное\n"
     ]
    }
   ],
   "source": [
    "num = int(input(\"Введите число:\" ))\n",
    "if num % 3 == 0:\n",
    "    print(\"Число четное\")\n",
    "else:\n",
    "    print(\"Число нечетное\")"
   ]
  },
  {
   "cell_type": "code",
   "execution_count": 6,
   "id": "5b5b7d6a-a8c3-4f98-a188-e6da262006c8",
   "metadata": {},
   "outputs": [
    {
     "name": "stdin",
     "output_type": "stream",
     "text": [
      "Вводите возраст: 67\n"
     ]
    },
    {
     "name": "stdout",
     "output_type": "stream",
     "text": [
      "Пенсионер\n"
     ]
    }
   ],
   "source": [
    "age = int(input(\"Вводите возраст:\" ))\n",
    "if age < 18:\n",
    "    print(\"Школник\")\n",
    "elif age > 60:\n",
    "    print(\"Пенсионер\")\n",
    "else:\n",
    "    print(\"Взрослый\")"
   ]
  },
  {
   "cell_type": "code",
   "execution_count": 7,
   "id": "99de13c8-14e3-4cfa-b942-283f31b3f264",
   "metadata": {},
   "outputs": [
    {
     "name": "stdin",
     "output_type": "stream",
     "text": [
      "Вводит возрасть: 23\n",
      "Вводит возрасть: 31\n"
     ]
    },
    {
     "name": "stdout",
     "output_type": "stream",
     "text": [
      "Второй старше\n"
     ]
    }
   ],
   "source": [
    "age1 = int(input(\"Вводит возрасть:\" ))\n",
    "age2 = int(input(\"Вводит возрасть:\" ))\n",
    "if age1 > age2:\n",
    "    print(\"Первый старшe\")\n",
    "elif age2 > age1:\n",
    "    print(\"Второй старше\")\n",
    "else:\n",
    "    print(\"Ровесники\")"
   ]
  },
  {
   "cell_type": "code",
   "execution_count": 19,
   "id": "3d311d03-81d4-4ba9-87a7-3d9aaf630f6d",
   "metadata": {},
   "outputs": [
    {
     "name": "stdin",
     "output_type": "stream",
     "text": [
      "Вводите число:  5\n",
      "Вводите число:  8\n",
      "Введите операцию (+, -, *, /):  /\n"
     ]
    },
    {
     "name": "stdout",
     "output_type": "stream",
     "text": [
      "Результат: 0.625\n"
     ]
    }
   ],
   "source": [
    "a = float(input(\"Вводите число: \" ))\n",
    "b = float(input(\"Вводите число: \" ))\n",
    "op = input(\"Введите операцию (+, -, *, /): \")\n",
    "if op == \"+\":\n",
    "    print(\"Результат:\", a + b)\n",
    "elif op == \"-\":\n",
    "    print(\"Результат:\", a - b)\n",
    "elif op == \"*\":\n",
    "    print(\"Результат:\", a * b)\n",
    "elif op == \"/\":\n",
    "    if b == 0:\n",
    "        print(\"Ошибка\")\n",
    "    else:\n",
    "        print(\"Результат:\", a / b)\n",
    "else:\n",
    "    print(\"Неизвестная операция\")"
   ]
  },
  {
   "cell_type": "code",
   "execution_count": 20,
   "id": "a097b639-789e-498d-896d-056c6f4d8922",
   "metadata": {},
   "outputs": [
    {
     "name": "stdin",
     "output_type": "stream",
     "text": [
      "Введите число:  1\n"
     ]
    },
    {
     "name": "stdout",
     "output_type": "stream",
     "text": [
      "1 * 1 = 1\n",
      "1 * 2 = 2\n",
      "1 * 3 = 3\n",
      "1 * 4 = 4\n",
      "1 * 5 = 5\n",
      "1 * 6 = 6\n",
      "1 * 7 = 7\n",
      "1 * 8 = 8\n",
      "1 * 9 = 9\n",
      "1 * 10 = 10\n"
     ]
    }
   ],
   "source": [
    "num = int(input(\"Введите число: \"))\n",
    "\n",
    "for i in range(1, 11):\n",
    "    print(num, \"*\", i, \"=\", num * i)\n"
   ]
  },
  {
   "cell_type": "code",
   "execution_count": 22,
   "id": "dc89f2c3-cc0c-42c9-a32b-e08ae41155f0",
   "metadata": {},
   "outputs": [
    {
     "name": "stdin",
     "output_type": "stream",
     "text": [
      "Введите число N:  2\n"
     ]
    },
    {
     "name": "stdout",
     "output_type": "stream",
     "text": [
      "Сумма чисел от 1 до 2 = 3\n"
     ]
    }
   ],
   "source": [
    "N = int(input(\"Введите число N: \"))\n",
    "sum_ = 0\n",
    "\n",
    "for i in range(1, N+1):\n",
    "    sum_ += i\n",
    "\n",
    "print(\"Сумма чисел от 1 до\", N, \"=\", sum_)\n"
   ]
  },
  {
   "cell_type": "code",
   "execution_count": null,
   "id": "e51ff7d7-671b-4f9d-a387-8ddd9837b2d7",
   "metadata": {},
   "outputs": [],
   "source": []
  }
 ],
 "metadata": {
  "kernelspec": {
   "display_name": "Python [conda env:anaconda3]",
   "language": "python",
   "name": "conda-env-anaconda3-py"
  },
  "language_info": {
   "codemirror_mode": {
    "name": "ipython",
    "version": 3
   },
   "file_extension": ".py",
   "mimetype": "text/x-python",
   "name": "python",
   "nbconvert_exporter": "python",
   "pygments_lexer": "ipython3",
   "version": "3.13.5"
  }
 },
 "nbformat": 4,
 "nbformat_minor": 5
}
